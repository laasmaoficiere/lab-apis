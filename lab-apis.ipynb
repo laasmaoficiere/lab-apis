{
 "cells": [
  {
   "cell_type": "markdown",
   "id": "27422808-8a16-4be1-897f-57b379af8991",
   "metadata": {},
   "source": [
    "# Lab | APIs"
   ]
  },
  {
   "cell_type": "markdown",
   "id": "50f30950-3e31-499a-92ea-1535422c570b",
   "metadata": {},
   "source": [
    "In order to use the `Spotify` API (`SpotiPy`), create an account in `Spotify` and follow [these](https://developer.spotify.com/documentation/general/guides/app-settings/) steps. "
   ]
  },
  {
   "cell_type": "markdown",
   "id": "a0479b95-6ca5-415e-b894-1f5cb17b055b",
   "metadata": {},
   "source": [
    "## Authentication and initializing the API"
   ]
  },
  {
   "cell_type": "markdown",
   "id": "47d71611-c617-4972-a0c3-7090c24b399c",
   "metadata": {},
   "source": [
    "Save your client ID and your client secret in your preferred way, and read it or load it into the following variables:"
   ]
  },
  {
   "cell_type": "code",
   "execution_count": 40,
   "id": "04e12954-fd70-4311-88a5-fb7e2c29799c",
   "metadata": {},
   "outputs": [
    {
     "name": "stdout",
     "output_type": "stream",
     "text": [
      "Requirement already satisfied: spotipy in /opt/anaconda3/lib/python3.11/site-packages (2.24.0)\n",
      "Requirement already satisfied: redis>=3.5.3 in /opt/anaconda3/lib/python3.11/site-packages (from spotipy) (5.0.7)\n",
      "Requirement already satisfied: requests>=2.25.0 in /opt/anaconda3/lib/python3.11/site-packages (from spotipy) (2.32.3)\n",
      "Requirement already satisfied: urllib3>=1.26.0 in /opt/anaconda3/lib/python3.11/site-packages (from spotipy) (2.0.7)\n",
      "Requirement already satisfied: charset-normalizer<4,>=2 in /opt/anaconda3/lib/python3.11/site-packages (from requests>=2.25.0->spotipy) (2.0.4)\n",
      "Requirement already satisfied: idna<4,>=2.5 in /opt/anaconda3/lib/python3.11/site-packages (from requests>=2.25.0->spotipy) (3.4)\n",
      "Requirement already satisfied: certifi>=2017.4.17 in /opt/anaconda3/lib/python3.11/site-packages (from requests>=2.25.0->spotipy) (2024.6.2)\n"
     ]
    }
   ],
   "source": [
    "# If you havent done so, install the spotipy wrapper\n",
    "!pip install spotipy"
   ]
  },
  {
   "cell_type": "markdown",
   "id": "dc0e86da-8846-4207-84c3-cd20b9e01d0e",
   "metadata": {},
   "source": [
    "Once you have done it, we will start initializing the API."
   ]
  },
  {
   "cell_type": "code",
   "execution_count": 41,
   "id": "03034bc6-9858-412a-83b7-18abdc345d7e",
   "metadata": {},
   "outputs": [
    {
     "ename": "NameError",
     "evalue": "name 'CLIENT_ID' is not defined",
     "output_type": "error",
     "traceback": [
      "\u001b[0;31m---------------------------------------------------------------------------\u001b[0m",
      "\u001b[0;31mNameError\u001b[0m                                 Traceback (most recent call last)",
      "Cell \u001b[0;32mIn[41], line 12\u001b[0m\n\u001b[1;32m      9\u001b[0m \u001b[38;5;28;01mfrom\u001b[39;00m \u001b[38;5;21;01mspotipy\u001b[39;00m\u001b[38;5;21;01m.\u001b[39;00m\u001b[38;5;21;01moauth2\u001b[39;00m \u001b[38;5;28;01mimport\u001b[39;00m SpotifyClientCredentials\n\u001b[1;32m     11\u001b[0m \u001b[38;5;66;03m#Initialize SpotiPy with user credentials\u001b[39;00m\n\u001b[0;32m---> 12\u001b[0m sp \u001b[38;5;241m=\u001b[39m spotipy\u001b[38;5;241m.\u001b[39mSpotify(auth_manager\u001b[38;5;241m=\u001b[39mSpotifyClientCredentials(client_id\u001b[38;5;241m=\u001b[39mCLIENT_ID,\n\u001b[1;32m     13\u001b[0m                                                            client_secret\u001b[38;5;241m=\u001b[39mCLIENT_SECRET))\n",
      "\u001b[0;31mNameError\u001b[0m: name 'CLIENT_ID' is not defined"
     ]
    }
   ],
   "source": [
    "from dotenv import load_dotenv\n",
    "import os\n",
    "\n",
    "load_dotenv()\n",
    "client_ID = os.getenv(\"CLIENT_ID\")\n",
    "client_secret = os.getenv(\"CLIENT_SECRET\")\n",
    "\n",
    "import spotipy\n",
    "from spotipy.oauth2 import SpotifyClientCredentials\n",
    "\n",
    "#Initialize SpotiPy with user credentials\n",
    "sp = spotipy.Spotify(auth_manager=SpotifyClientCredentials(client_id=CLIENT_ID,\n",
    "                                                           client_secret=CLIENT_SECRET))\n"
   ]
  },
  {
   "cell_type": "code",
   "execution_count": null,
   "id": "81912056",
   "metadata": {},
   "outputs": [],
   "source": [
    "from dotenv import load_dotenv\n",
    "import os"
   ]
  },
  {
   "cell_type": "code",
   "execution_count": null,
   "id": "8ae71c18",
   "metadata": {},
   "outputs": [
    {
     "data": {
      "text/plain": [
       "True"
      ]
     },
     "execution_count": 7,
     "metadata": {},
     "output_type": "execute_result"
    }
   ],
   "source": [
    "load_dotenv()"
   ]
  },
  {
   "cell_type": "code",
   "execution_count": null,
   "id": "d64035f2",
   "metadata": {},
   "outputs": [],
   "source": [
    "client_ID = os.getenv(\"CLIENT_ID\")\n",
    "client_secret = os.getenv(\"CLIENT_SECRET\")"
   ]
  },
  {
   "cell_type": "code",
   "execution_count": null,
   "id": "f3e43fc7",
   "metadata": {},
   "outputs": [],
   "source": [
    "import spotipy\n",
    "from spotipy.oauth2 import SpotifyClientCredentials"
   ]
  },
  {
   "cell_type": "code",
   "execution_count": null,
   "id": "8c78482b",
   "metadata": {},
   "outputs": [],
   "source": [
    "#Initialize SpotiPy with user credentials\n",
    "sp = spotipy.Spotify(auth_manager=SpotifyClientCredentials(client_id=client_ID,\n",
    "                                                           client_secret=client_secret))"
   ]
  },
  {
   "cell_type": "markdown",
   "id": "8fed9628-08d7-4290-a4be-5527696b01c5",
   "metadata": {},
   "source": [
    "## Using the search method"
   ]
  },
  {
   "cell_type": "markdown",
   "id": "6575a3c6-f25a-4905-b1f3-c0efd50dcc1e",
   "metadata": {},
   "source": [
    "Now, let's use the search method by introducing a \"query\". For example, let's try searching for \"Lady Gaga\":"
   ]
  },
  {
   "cell_type": "code",
   "execution_count": null,
   "id": "7772a1e0-9692-4d04-a590-76111a272d8d",
   "metadata": {
    "tags": []
   },
   "outputs": [],
   "source": [
    "results = sp.search(q='Lady Gaga', limit=50)\n",
    "results"
   ]
  },
  {
   "cell_type": "code",
   "execution_count": null,
   "id": "edc14c95-474b-4e2a-aea3-bdfd0a205546",
   "metadata": {},
   "outputs": [
    {
     "data": {
      "text/plain": [
       "dict_keys(['tracks'])"
      ]
     },
     "execution_count": 17,
     "metadata": {},
     "output_type": "execute_result"
    }
   ],
   "source": [
    "results.keys() # We can see that we only have tracks"
   ]
  },
  {
   "cell_type": "code",
   "execution_count": null,
   "id": "ad8ef934-1dbb-4008-ac8e-f5c29823fe6a",
   "metadata": {},
   "outputs": [
    {
     "data": {
      "text/plain": [
       "dict_keys(['href', 'items', 'limit', 'next', 'offset', 'previous', 'total'])"
      ]
     },
     "execution_count": 18,
     "metadata": {},
     "output_type": "execute_result"
    }
   ],
   "source": [
    "results[\"tracks\"].keys() # Let's check the values"
   ]
  },
  {
   "cell_type": "code",
   "execution_count": null,
   "id": "004b7814-4dd5-408e-b7ba-1da87f9250cb",
   "metadata": {},
   "outputs": [
    {
     "data": {
      "text/plain": [
       "'https://api.spotify.com/v1/search?query=Lady+Gaga&type=track&offset=0&limit=50'"
      ]
     },
     "execution_count": 19,
     "metadata": {},
     "output_type": "execute_result"
    }
   ],
   "source": [
    "results[\"tracks\"][\"href\"] # Query we have searched "
   ]
  },
  {
   "cell_type": "code",
   "execution_count": null,
   "id": "7285cedd-fbe1-47cf-98d5-a7fdc3e5c8b8",
   "metadata": {
    "scrolled": true,
    "tags": []
   },
   "outputs": [],
   "source": [
    "results[\"tracks\"][\"items\"] #items (actual tracks)"
   ]
  },
  {
   "cell_type": "code",
   "execution_count": null,
   "id": "529fff56-47d3-4d78-8ff5-9530fe290d1d",
   "metadata": {},
   "outputs": [
    {
     "data": {
      "text/plain": [
       "50"
      ]
     },
     "execution_count": 21,
     "metadata": {},
     "output_type": "execute_result"
    }
   ],
   "source": [
    "results[\"tracks\"][\"limit\"]#Limit we have chosen"
   ]
  },
  {
   "cell_type": "code",
   "execution_count": null,
   "id": "92c64c57-3bd2-4d42-bbd1-84a040f1e02a",
   "metadata": {},
   "outputs": [
    {
     "data": {
      "text/plain": [
       "'https://api.spotify.com/v1/search?query=Lady+Gaga&type=track&offset=50&limit=50'"
      ]
     },
     "execution_count": 22,
     "metadata": {},
     "output_type": "execute_result"
    }
   ],
   "source": [
    "results[\"tracks\"][\"next\"] #link to the next page (next 50 tracks)"
   ]
  },
  {
   "cell_type": "code",
   "execution_count": null,
   "id": "f5ccdf79-5d9e-40de-adb9-2cc1e5b7c74a",
   "metadata": {
    "tags": []
   },
   "outputs": [
    {
     "data": {
      "text/plain": [
       "0"
      ]
     },
     "execution_count": 23,
     "metadata": {},
     "output_type": "execute_result"
    }
   ],
   "source": [
    "results[\"tracks\"][\"offset\"] # Actual offset (starting point)"
   ]
  },
  {
   "cell_type": "code",
   "execution_count": null,
   "id": "356730c1-60a2-4ea8-bd2c-e0522bab8a4d",
   "metadata": {},
   "outputs": [],
   "source": [
    "results[\"tracks\"][\"previous\"] #Previous search"
   ]
  },
  {
   "cell_type": "code",
   "execution_count": null,
   "id": "7c44c8fd-63ea-45ba-94bd-5c5e8e1458b3",
   "metadata": {},
   "outputs": [
    {
     "data": {
      "text/plain": [
       "904"
      ]
     },
     "execution_count": 25,
     "metadata": {},
     "output_type": "execute_result"
    }
   ],
   "source": [
    "results[\"tracks\"][\"total\"] # Number of matches"
   ]
  },
  {
   "cell_type": "markdown",
   "id": "7a127c64-3274-4ecc-aa0f-83ae34af4655",
   "metadata": {},
   "source": [
    "## Exploring the tracks"
   ]
  },
  {
   "cell_type": "code",
   "execution_count": null,
   "id": "6c3541a2-0fd2-41e0-9b27-60a7dc36c4cb",
   "metadata": {
    "scrolled": true,
    "tags": []
   },
   "outputs": [],
   "source": [
    "results[\"tracks\"][\"items\"][0] # Explore the first song"
   ]
  },
  {
   "cell_type": "code",
   "execution_count": null,
   "id": "f2c35eb2-3ea6-4329-9f29-7c062f466638",
   "metadata": {},
   "outputs": [
    {
     "data": {
      "text/plain": [
       "dict_keys(['album', 'artists', 'available_markets', 'disc_number', 'duration_ms', 'explicit', 'external_ids', 'external_urls', 'href', 'id', 'is_local', 'name', 'popularity', 'preview_url', 'track_number', 'type', 'uri'])"
      ]
     },
     "execution_count": 27,
     "metadata": {},
     "output_type": "execute_result"
    }
   ],
   "source": [
    "results[\"tracks\"][\"items\"][0].keys() # We will focus on album, artists, id, name, popularity, type and uri"
   ]
  },
  {
   "cell_type": "code",
   "execution_count": null,
   "id": "889ca3c3-b0c8-4037-96fb-6add847f537f",
   "metadata": {},
   "outputs": [
    {
     "data": {
      "text/plain": [
       "[{'external_urls': {'spotify': 'https://open.spotify.com/artist/1HY2Jd0NmPuamShAr6KMms'},\n",
       "  'href': 'https://api.spotify.com/v1/artists/1HY2Jd0NmPuamShAr6KMms',\n",
       "  'id': '1HY2Jd0NmPuamShAr6KMms',\n",
       "  'name': 'Lady Gaga',\n",
       "  'type': 'artist',\n",
       "  'uri': 'spotify:artist:1HY2Jd0NmPuamShAr6KMms'}]"
      ]
     },
     "execution_count": 28,
     "metadata": {},
     "output_type": "execute_result"
    }
   ],
   "source": [
    "# Track artists\n",
    "results[\"tracks\"][\"items\"][0][\"artists\"] "
   ]
  },
  {
   "cell_type": "code",
   "execution_count": null,
   "id": "a9c6a0b2-cea7-48ff-8c51-179d15388aa2",
   "metadata": {},
   "outputs": [
    {
     "name": "stdout",
     "output_type": "stream",
     "text": [
      "Lady Gaga\n"
     ]
    }
   ],
   "source": [
    "# Track artists names\n",
    "for artist in results[\"tracks\"][\"items\"][0][\"artists\"]:\n",
    "    print(artist[\"name\"])"
   ]
  },
  {
   "cell_type": "code",
   "execution_count": null,
   "id": "6a826e9c-d2e7-4537-a82c-3dc3a2b80b9f",
   "metadata": {},
   "outputs": [
    {
     "data": {
      "text/plain": [
       "'2rbDhOo9Fh61Bbu23T2qCk'"
      ]
     },
     "execution_count": 30,
     "metadata": {},
     "output_type": "execute_result"
    }
   ],
   "source": [
    "# Track ID\n",
    "results[\"tracks\"][\"items\"][0][\"id\"] "
   ]
  },
  {
   "cell_type": "code",
   "execution_count": null,
   "id": "a5bd871b-6087-4680-819c-1a1d8ba879bc",
   "metadata": {},
   "outputs": [
    {
     "data": {
      "text/plain": [
       "'Always Remember Us This Way'"
      ]
     },
     "execution_count": 31,
     "metadata": {},
     "output_type": "execute_result"
    }
   ],
   "source": [
    "# Track name\n",
    "results[\"tracks\"][\"items\"][0][\"name\"] "
   ]
  },
  {
   "cell_type": "code",
   "execution_count": null,
   "id": "812661f1-29db-452f-a719-cdfbe95ba9f6",
   "metadata": {},
   "outputs": [
    {
     "data": {
      "text/plain": [
       "81"
      ]
     },
     "execution_count": 32,
     "metadata": {},
     "output_type": "execute_result"
    }
   ],
   "source": [
    "# Popularity index\n",
    "results[\"tracks\"][\"items\"][0][\"popularity\"] "
   ]
  },
  {
   "cell_type": "markdown",
   "id": "0e81c762-e6c5-424e-a4eb-12ab45dffb9f",
   "metadata": {},
   "source": [
    "Spotify songs are identified by either a \"url\", a \"uri\", or an \"id\". \n",
    "\n",
    "- The `id` is an alphanumeric code, and it's the nuclear part of the identifier.\n",
    "\n",
    "- The `uri` contains \"spotify:track\" before the id. An uri is useful because it can be searched manually in the Spotify app.\n",
    "\n",
    "- The `url` is a link to the song on the Spotify web player.\n"
   ]
  },
  {
   "cell_type": "code",
   "execution_count": 46,
   "id": "8bcdccfc-dde9-4f4b-8af5-3caa335b89b5",
   "metadata": {},
   "outputs": [
    {
     "data": {
      "text/plain": [
       "'spotify:track:2rbDhOo9Fh61Bbu23T2qCk'"
      ]
     },
     "execution_count": 46,
     "metadata": {},
     "output_type": "execute_result"
    }
   ],
   "source": [
    "results[\"tracks\"][\"items\"][0][\"uri\"]"
   ]
  },
  {
   "cell_type": "markdown",
   "id": "71c3c9c1-4ec2-42bf-a243-b21105ae1699",
   "metadata": {},
   "source": [
    "## Exercise 1: Discovering New Music through Your Favorite Artists\n",
    "\n",
    "**Objective:** \n",
    "Uncover new music by exploring the top tracks of your favorite artists and their related artists.\n",
    "\n",
    "**Instructions:**\n",
    "\n",
    "1. **List Your Favorite Artists**:\n",
    "    - Make a list of your three favorite artists and store it in a variable named `artists`.\n",
    "    - Example: `artists = [\"Los Fabulosos Cadillacs\", \"Manu Chao\", \"Muchachito Bombo Infierno\"]`.\n",
    "\n",
    "2. **Fetch Top Tracks**:\n",
    "    - Write a function named `get_top_tracks`.\n",
    "    - This function should accept an artist's name and return the name of the first 5 top tracks by that artist.\n",
    "    - Use the function `get_top_tracks` to get the first 5 top tracks for each artist in your `artists` list and store the results in a new list named `top_tracks_list`.\n",
    "\n",
    "3. **Discover Related Artists**:\n",
    "    - Write a function named `find_related_artists`.\n",
    "    - This function should accept an artist's name and return the names of the first 5 artists related to the provided artist.\n",
    "    - Store the results in a list named `related_artists_list`.\n",
    "\n",
    "**Challenge:** \n",
    "Combine the above steps to create a playlist that includes the top tracks of your favorite artists and the top tracks of the artists related to them."
   ]
  },
  {
   "cell_type": "markdown",
   "id": "0c442378-e26f-47c8-b4f1-b4fa07089935",
   "metadata": {},
   "source": [
    "**Hint Section for 3. **Discover Related Artists**:**\n",
    "\n",
    "1. **Getting Artist ID**:\n",
    "    - Remember that every artist on Spotify has a unique identifier: their `id`. To get the related artists, you first need to fetch the ID of the given artist.\n",
    "    - Consider using the `sp.search` method to query the artist's name. The method requires a `q` parameter, which is your query (in this case, the artist's name). It also has a `limit` parameter, which specifies the number of tracks it returns. In this case, 1 track is enough, since we just want the artist ID. \n",
    "    - Each track in the results has an associated 'artists' field. This field is a list containing details about all artists involved in that track.\n",
    "   - For most tracks, especially those by a single artist, this list will contain one artist. From this artist's details, you can extract the 'id' field, which is the unique identifier for that artist on Spotify.\n",
    "\n",
    "\n",
    "3. **Fetching Related Artists**:\n",
    "    - Once you have the artist's ID, you can use another SpotiPy method to fetch related artists. Think about which SpotiPy method allows you to get related artists using an artist's ID. Here is the documentation link: https://spotipy.readthedocs.io/en/2.22.1/. \n",
    "    - This method will return a list of related artists. You'll need to extract the relevant details (artist names) from this list.\n",
    "\n",
    "4. **Iterating for Multiple Artists**:\n",
    "    - Once you have a function that returns related artists names for one artist, you can use a list comprehension to apply this function to a list of artist names.\n",
    "\n",
    "5. **Testing**:\n",
    "    - Always test your function with one artist name first. Once you're confident it works, then apply it to the entire list.\n",
    "\n",
    "Remember, the key is to break the problem down into manageable steps. Use the SpotiPy documentation as a resource to understand available methods and their return structures."
   ]
  },
  {
   "cell_type": "code",
   "execution_count": null,
   "id": "29694252-f217-454d-8881-681b2b6eeb1e",
   "metadata": {},
   "outputs": [],
   "source": [
    "# Your answer here\n",
    "artists = ['Jamie XX', 'Lana del Rey', 'Frank Ocean']"
   ]
  },
  {
   "cell_type": "code",
   "execution_count": 55,
   "id": "fa639fba",
   "metadata": {},
   "outputs": [],
   "source": [
    "#Use the function `get_top_tracks` to get the first 5 top tracks for each artist in your `artists` list \n",
    "\n",
    "def get_top_tracks(artists):\n",
    "    top_tracks = []\n",
    "    for artist in artists:\n",
    "        results = sp.search(q=artist, limit=5)\n",
    "        for track in results[\"tracks\"][\"items\"]:\n",
    "            top_tracks.append(track[\"name\"])\n",
    "    return top_tracks"
   ]
  },
  {
   "cell_type": "code",
   "execution_count": 89,
   "id": "28fdc533",
   "metadata": {},
   "outputs": [],
   "source": [
    "top_tracks_list = get_top_tracks(artists)"
   ]
  },
  {
   "cell_type": "code",
   "execution_count": 114,
   "id": "a8777d32",
   "metadata": {},
   "outputs": [],
   "source": [
    "def find_related_artists(artist_name):\n",
    "    results = sp.search(q=artist_name, limit=1)\n",
    "    artist_id = results[\"tracks\"][\"items\"][0][\"artists\"][0][\"id\"]\n",
    "    related_artists = []\n",
    "    results = sp.artist_related_artists(artist_id)\n",
    "    for artist in results[\"artists\"]:\n",
    "        if len(related_artists) < 5:\n",
    "            related_artists.append(artist[\"name\"])\n",
    "        else:\n",
    "            break\n",
    "    return related_artists\n"
   ]
  },
  {
   "cell_type": "markdown",
   "id": "94ad5fdc-22e5-4521-8aa1-c6833eb7e949",
   "metadata": {},
   "source": [
    "## Playlists\n",
    "\n",
    "The `sp.featured_playlists()` method in `spotipy` fetches a list of Spotify's featured playlists at a given moment. These are curated playlists that Spotify often highlights on the platform's homepage. The method provides a snapshot of the playlists that are being promoted or featured by Spotify at the time of the request.\n",
    "\n",
    "Once you've fetched the featured playlists, you can extract their IDs (and other details)."
   ]
  },
  {
   "cell_type": "code",
   "execution_count": 115,
   "id": "25fb0cf8-c13a-41b0-b8f8-7e0700fd1e41",
   "metadata": {},
   "outputs": [
    {
     "data": {
      "text/plain": [
       "{'message': 'Popular Playlists',\n",
       " 'playlists': {'href': 'https://api.spotify.com/v1/browse/featured-playlists?offset=0&limit=20',\n",
       "  'items': [{'collaborative': False,\n",
       "    'description': 'Billie Eilish is on top of the Hottest 50!',\n",
       "    'external_urls': {'spotify': 'https://open.spotify.com/playlist/37i9dQZF1DXcBWIGoYBM5M'},\n",
       "    'href': 'https://api.spotify.com/v1/playlists/37i9dQZF1DXcBWIGoYBM5M',\n",
       "    'id': '37i9dQZF1DXcBWIGoYBM5M',\n",
       "    'images': [{'height': None,\n",
       "      'url': 'https://i.scdn.co/image/ab67706f0000000292d0daa33844b0c6327d3a64',\n",
       "      'width': None}],\n",
       "    'name': 'Today’s Top Hits',\n",
       "    'owner': {'display_name': 'Spotify',\n",
       "     'external_urls': {'spotify': 'https://open.spotify.com/user/spotify'},\n",
       "     'href': 'https://api.spotify.com/v1/users/spotify',\n",
       "     'id': 'spotify',\n",
       "     'type': 'user',\n",
       "     'uri': 'spotify:user:spotify'},\n",
       "    'primary_color': '#FFFFFF',\n",
       "    'public': True,\n",
       "    'snapshot_id': 'ZodvwAAAAAAkFAj+3g1WhM7aKL8/rLfU',\n",
       "    'tracks': {'href': 'https://api.spotify.com/v1/playlists/37i9dQZF1DXcBWIGoYBM5M/tracks',\n",
       "     'total': 50},\n",
       "    'type': 'playlist',\n",
       "    'uri': 'spotify:playlist:37i9dQZF1DXcBWIGoYBM5M'},\n",
       "   {'collaborative': False,\n",
       "    'description': 'The summer needs dance hits 😎☀️',\n",
       "    'external_urls': {'spotify': 'https://open.spotify.com/playlist/37i9dQZF1DWZ7eJRBxKzdO'},\n",
       "    'href': 'https://api.spotify.com/v1/playlists/37i9dQZF1DWZ7eJRBxKzdO',\n",
       "    'id': '37i9dQZF1DWZ7eJRBxKzdO',\n",
       "    'images': [{'height': None,\n",
       "      'url': 'https://i.scdn.co/image/ab67706f00000002c7ea8e62ee86671eaa4c341c',\n",
       "      'width': None}],\n",
       "    'name': 'Summer Dance Hits 2024',\n",
       "    'owner': {'display_name': 'Spotify',\n",
       "     'external_urls': {'spotify': 'https://open.spotify.com/user/spotify'},\n",
       "     'href': 'https://api.spotify.com/v1/users/spotify',\n",
       "     'id': 'spotify',\n",
       "     'type': 'user',\n",
       "     'uri': 'spotify:user:spotify'},\n",
       "    'primary_color': '#ffffff',\n",
       "    'public': True,\n",
       "    'snapshot_id': 'ZnyG+QAAAACm+t+LHylRaIj2MoGRDGtR',\n",
       "    'tracks': {'href': 'https://api.spotify.com/v1/playlists/37i9dQZF1DWZ7eJRBxKzdO/tracks',\n",
       "     'total': 120},\n",
       "    'type': 'playlist',\n",
       "    'uri': 'spotify:playlist:37i9dQZF1DWZ7eJRBxKzdO'},\n",
       "   {'collaborative': False,\n",
       "    'description': 'Congratulations to the winner of Eurovision Song Contest 2024 - Nemo \\U0001fa77',\n",
       "    'external_urls': {'spotify': 'https://open.spotify.com/playlist/37i9dQZF1DWVCKO3xAlT1Q'},\n",
       "    'href': 'https://api.spotify.com/v1/playlists/37i9dQZF1DWVCKO3xAlT1Q',\n",
       "    'id': '37i9dQZF1DWVCKO3xAlT1Q',\n",
       "    'images': [{'height': None,\n",
       "      'url': 'https://i.scdn.co/image/ab67706f0000000240acc80a2a05f1e00ede9925',\n",
       "      'width': None}],\n",
       "    'name': 'Eurovision 2024',\n",
       "    'owner': {'display_name': 'Spotify',\n",
       "     'external_urls': {'spotify': 'https://open.spotify.com/user/spotify'},\n",
       "     'href': 'https://api.spotify.com/v1/users/spotify',\n",
       "     'id': 'spotify',\n",
       "     'type': 'user',\n",
       "     'uri': 'spotify:user:spotify'},\n",
       "    'primary_color': '#ffffff',\n",
       "    'public': True,\n",
       "    'snapshot_id': 'ZnkmAwAAAACXISgP1vENaoTixsqZeOrj',\n",
       "    'tracks': {'href': 'https://api.spotify.com/v1/playlists/37i9dQZF1DWVCKO3xAlT1Q/tracks',\n",
       "     'total': 37},\n",
       "    'type': 'playlist',\n",
       "    'uri': 'spotify:playlist:37i9dQZF1DWVCKO3xAlT1Q'},\n",
       "   {'collaborative': False,\n",
       "    'description': 'the beat of your drift',\n",
       "    'external_urls': {'spotify': 'https://open.spotify.com/playlist/37i9dQZF1DWWY64wDtewQt'},\n",
       "    'href': 'https://api.spotify.com/v1/playlists/37i9dQZF1DWWY64wDtewQt',\n",
       "    'id': '37i9dQZF1DWWY64wDtewQt',\n",
       "    'images': [{'height': None,\n",
       "      'url': 'https://i.scdn.co/image/ab67706f000000028a9e50e6e634a604fa545f72',\n",
       "      'width': None}],\n",
       "    'name': 'phonk',\n",
       "    'owner': {'display_name': 'Spotify',\n",
       "     'external_urls': {'spotify': 'https://open.spotify.com/user/spotify'},\n",
       "     'href': 'https://api.spotify.com/v1/users/spotify',\n",
       "     'id': 'spotify',\n",
       "     'type': 'user',\n",
       "     'uri': 'spotify:user:spotify'},\n",
       "    'primary_color': '#ffffff',\n",
       "    'public': True,\n",
       "    'snapshot_id': 'Zof6CQAAAADIfEF+csv3y8rOIYMmefvR',\n",
       "    'tracks': {'href': 'https://api.spotify.com/v1/playlists/37i9dQZF1DWWY64wDtewQt/tracks',\n",
       "     'total': 100},\n",
       "    'type': 'playlist',\n",
       "    'uri': 'spotify:playlist:37i9dQZF1DWWY64wDtewQt'},\n",
       "   {'collaborative': False,\n",
       "    'description': 'Dip your feet in the pool and enjoy this perfect summer house mix ☀️\\u200a',\n",
       "    'external_urls': {'spotify': 'https://open.spotify.com/playlist/37i9dQZF1DX05r4Oy3Ln97'},\n",
       "    'href': 'https://api.spotify.com/v1/playlists/37i9dQZF1DX05r4Oy3Ln97',\n",
       "    'id': '37i9dQZF1DX05r4Oy3Ln97',\n",
       "    'images': [{'height': None,\n",
       "      'url': 'https://i.scdn.co/image/ab67706f000000029c3fe50a46388ca72e2691e3',\n",
       "      'width': None}],\n",
       "    'name': 'Summer House 2024',\n",
       "    'owner': {'display_name': 'Spotify',\n",
       "     'external_urls': {'spotify': 'https://open.spotify.com/user/spotify'},\n",
       "     'href': 'https://api.spotify.com/v1/users/spotify',\n",
       "     'id': 'spotify',\n",
       "     'type': 'user',\n",
       "     'uri': 'spotify:user:spotify'},\n",
       "    'primary_color': '#ffffff',\n",
       "    'public': True,\n",
       "    'snapshot_id': 'ZnWapAAAAADQCtl06LN7h9iBkksfWTWn',\n",
       "    'tracks': {'href': 'https://api.spotify.com/v1/playlists/37i9dQZF1DX05r4Oy3Ln97/tracks',\n",
       "     'total': 100},\n",
       "    'type': 'playlist',\n",
       "    'uri': 'spotify:playlist:37i9dQZF1DX05r4Oy3Ln97'},\n",
       "   {'collaborative': False,\n",
       "    'description': 'New music from Eminem, GloRilla and newcomer Cash Cobain.',\n",
       "    'external_urls': {'spotify': 'https://open.spotify.com/playlist/37i9dQZF1DX0XUsuxWHRQd'},\n",
       "    'href': 'https://api.spotify.com/v1/playlists/37i9dQZF1DX0XUsuxWHRQd',\n",
       "    'id': '37i9dQZF1DX0XUsuxWHRQd',\n",
       "    'images': [{'height': None,\n",
       "      'url': 'https://i.scdn.co/image/ab67706f00000002426dda818d07ebe7ad4c2287',\n",
       "      'width': None}],\n",
       "    'name': 'RapCaviar',\n",
       "    'owner': {'display_name': 'Spotify',\n",
       "     'external_urls': {'spotify': 'https://open.spotify.com/user/spotify'},\n",
       "     'href': 'https://api.spotify.com/v1/users/spotify',\n",
       "     'id': 'spotify',\n",
       "     'type': 'user',\n",
       "     'uri': 'spotify:user:spotify'},\n",
       "    'primary_color': '#F49B23',\n",
       "    'public': True,\n",
       "    'snapshot_id': 'Zod5bgAAAADTOV5GgcM7l20Br7pdGdGD',\n",
       "    'tracks': {'href': 'https://api.spotify.com/v1/playlists/37i9dQZF1DX0XUsuxWHRQd/tracks',\n",
       "     'total': 50},\n",
       "    'type': 'playlist',\n",
       "    'uri': 'spotify:playlist:37i9dQZF1DX0XUsuxWHRQd'},\n",
       "   {'collaborative': False,\n",
       "    'description': 'A mega mix of 75 favorites from the last few years! ',\n",
       "    'external_urls': {'spotify': 'https://open.spotify.com/playlist/37i9dQZF1DXbYM3nMM0oPk'},\n",
       "    'href': 'https://api.spotify.com/v1/playlists/37i9dQZF1DXbYM3nMM0oPk',\n",
       "    'id': '37i9dQZF1DXbYM3nMM0oPk',\n",
       "    'images': [{'height': None,\n",
       "      'url': 'https://i.scdn.co/image/ab67706f00000002523900c130e847665a66b9d8',\n",
       "      'width': None}],\n",
       "    'name': 'Mega Hit Mix',\n",
       "    'owner': {'display_name': 'Spotify',\n",
       "     'external_urls': {'spotify': 'https://open.spotify.com/user/spotify'},\n",
       "     'href': 'https://api.spotify.com/v1/users/spotify',\n",
       "     'id': 'spotify',\n",
       "     'type': 'user',\n",
       "     'uri': 'spotify:user:spotify'},\n",
       "    'primary_color': '#ffffff',\n",
       "    'public': True,\n",
       "    'snapshot_id': 'Zk3QMAAAAAC8w+UCxKCrhNu8kYyN6I2n',\n",
       "    'tracks': {'href': 'https://api.spotify.com/v1/playlists/37i9dQZF1DXbYM3nMM0oPk/tracks',\n",
       "     'total': 75},\n",
       "    'type': 'playlist',\n",
       "    'uri': 'spotify:playlist:37i9dQZF1DXbYM3nMM0oPk'},\n",
       "   {'collaborative': False,\n",
       "    'description': 'The very best in new music from around the world. Cover: Quavo & Lana Del Rey',\n",
       "    'external_urls': {'spotify': 'https://open.spotify.com/playlist/37i9dQZF1DWXJfnUiYjUKT'},\n",
       "    'href': 'https://api.spotify.com/v1/playlists/37i9dQZF1DWXJfnUiYjUKT',\n",
       "    'id': '37i9dQZF1DWXJfnUiYjUKT',\n",
       "    'images': [{'height': None,\n",
       "      'url': 'https://i.scdn.co/image/ab67706f00000002a22e3a71d266145d6e56389e',\n",
       "      'width': None}],\n",
       "    'name': 'New Music Friday',\n",
       "    'owner': {'display_name': 'Spotify',\n",
       "     'external_urls': {'spotify': 'https://open.spotify.com/user/spotify'},\n",
       "     'href': 'https://api.spotify.com/v1/users/spotify',\n",
       "     'id': 'spotify',\n",
       "     'type': 'user',\n",
       "     'uri': 'spotify:user:spotify'},\n",
       "    'primary_color': '#A0C3D2',\n",
       "    'public': True,\n",
       "    'snapshot_id': 'ZodvwAAAAAD6ea15MLIn2xrQb+I3Kx9V',\n",
       "    'tracks': {'href': 'https://api.spotify.com/v1/playlists/37i9dQZF1DWXJfnUiYjUKT/tracks',\n",
       "     'total': 100},\n",
       "    'type': 'playlist',\n",
       "    'uri': 'spotify:playlist:37i9dQZF1DWXJfnUiYjUKT'},\n",
       "   {'collaborative': False,\n",
       "    'description': 'Throwing it back with these summer classics ',\n",
       "    'external_urls': {'spotify': 'https://open.spotify.com/playlist/37i9dQZF1DXd1MXcE8WTXq'},\n",
       "    'href': 'https://api.spotify.com/v1/playlists/37i9dQZF1DXd1MXcE8WTXq',\n",
       "    'id': '37i9dQZF1DXd1MXcE8WTXq',\n",
       "    'images': [{'height': None,\n",
       "      'url': 'https://i.scdn.co/image/ab67706f00000002ba13d8232df404d7f148e4b9',\n",
       "      'width': None}],\n",
       "    'name': 'Summer Throwbacks',\n",
       "    'owner': {'display_name': 'Spotify',\n",
       "     'external_urls': {'spotify': 'https://open.spotify.com/user/spotify'},\n",
       "     'href': 'https://api.spotify.com/v1/users/spotify',\n",
       "     'id': 'spotify',\n",
       "     'type': 'user',\n",
       "     'uri': 'spotify:user:spotify'},\n",
       "    'primary_color': '#ffffff',\n",
       "    'public': True,\n",
       "    'snapshot_id': 'ZogGUwAAAAAW4mbRO9vbGgNGoaGNuX0P',\n",
       "    'tracks': {'href': 'https://api.spotify.com/v1/playlists/37i9dQZF1DXd1MXcE8WTXq/tracks',\n",
       "     'total': 80},\n",
       "    'type': 'playlist',\n",
       "    'uri': 'spotify:playlist:37i9dQZF1DXd1MXcE8WTXq'},\n",
       "   {'collaborative': False,\n",
       "    'description': 'iykyk',\n",
       "    'external_urls': {'spotify': 'https://open.spotify.com/playlist/37i9dQZF1DX5Vy6DFOcx00'},\n",
       "    'href': 'https://api.spotify.com/v1/playlists/37i9dQZF1DX5Vy6DFOcx00',\n",
       "    'id': '37i9dQZF1DX5Vy6DFOcx00',\n",
       "    'images': [{'height': None,\n",
       "      'url': 'https://i.scdn.co/image/ab67706f00000002e9543d74022d1d56a33129b6',\n",
       "      'width': None}],\n",
       "    'name': 'big on the internet',\n",
       "    'owner': {'display_name': 'Spotify',\n",
       "     'external_urls': {'spotify': 'https://open.spotify.com/user/spotify'},\n",
       "     'href': 'https://api.spotify.com/v1/users/spotify',\n",
       "     'id': 'spotify',\n",
       "     'type': 'user',\n",
       "     'uri': 'spotify:user:spotify'},\n",
       "    'primary_color': '#ffffff',\n",
       "    'public': True,\n",
       "    'snapshot_id': 'ZoYCDgAAAABzyF+msG6CycLkP7qK49Qd',\n",
       "    'tracks': {'href': 'https://api.spotify.com/v1/playlists/37i9dQZF1DX5Vy6DFOcx00/tracks',\n",
       "     'total': 50},\n",
       "    'type': 'playlist',\n",
       "    'uri': 'spotify:playlist:37i9dQZF1DX5Vy6DFOcx00'},\n",
       "   {'collaborative': False,\n",
       "    'description': 'Get ready for Ibiza season 2024. See you on the dancefloor.',\n",
       "    'external_urls': {'spotify': 'https://open.spotify.com/playlist/37i9dQZF1DXaCACvgOVs5K'},\n",
       "    'href': 'https://api.spotify.com/v1/playlists/37i9dQZF1DXaCACvgOVs5K',\n",
       "    'id': '37i9dQZF1DXaCACvgOVs5K',\n",
       "    'images': [{'height': None,\n",
       "      'url': 'https://i.scdn.co/image/ab67706f00000002ed6e941de6272373e82ea5ad',\n",
       "      'width': None}],\n",
       "    'name': 'Ibiza 2024',\n",
       "    'owner': {'display_name': 'Spotify',\n",
       "     'external_urls': {'spotify': 'https://open.spotify.com/user/spotify'},\n",
       "     'href': 'https://api.spotify.com/v1/users/spotify',\n",
       "     'id': 'spotify',\n",
       "     'type': 'user',\n",
       "     'uri': 'spotify:user:spotify'},\n",
       "    'primary_color': '#ffffff',\n",
       "    'public': True,\n",
       "    'snapshot_id': 'Zoc3vAAAAABcSFoXrUbuqtGAhJ0sO7Hv',\n",
       "    'tracks': {'href': 'https://api.spotify.com/v1/playlists/37i9dQZF1DXaCACvgOVs5K/tracks',\n",
       "     'total': 100},\n",
       "    'type': 'playlist',\n",
       "    'uri': 'spotify:playlist:37i9dQZF1DXaCACvgOVs5K'},\n",
       "   {'collaborative': False,\n",
       "    'description': 'All the <a href=\"spotify:genre:edm_dance\">big ones</a> with David Guetta & OneRepublic',\n",
       "    'external_urls': {'spotify': 'https://open.spotify.com/playlist/37i9dQZF1DX0BcQWzuB7ZO'},\n",
       "    'href': 'https://api.spotify.com/v1/playlists/37i9dQZF1DX0BcQWzuB7ZO',\n",
       "    'id': '37i9dQZF1DX0BcQWzuB7ZO',\n",
       "    'images': [{'height': None,\n",
       "      'url': 'https://i.scdn.co/image/ab67706f00000002618e9d3f7e46cac952b0c2e2',\n",
       "      'width': None}],\n",
       "    'name': 'Dance Hits',\n",
       "    'owner': {'display_name': 'Spotify',\n",
       "     'external_urls': {'spotify': 'https://open.spotify.com/user/spotify'},\n",
       "     'href': 'https://api.spotify.com/v1/users/spotify',\n",
       "     'id': 'spotify',\n",
       "     'type': 'user',\n",
       "     'uri': 'spotify:user:spotify'},\n",
       "    'primary_color': '#ffffff',\n",
       "    'public': True,\n",
       "    'snapshot_id': 'ZogIkgAAAADYxRGTgHx0xLhwOS4Xp5MF',\n",
       "    'tracks': {'href': 'https://api.spotify.com/v1/playlists/37i9dQZF1DX0BcQWzuB7ZO/tracks',\n",
       "     'total': 75},\n",
       "    'type': 'playlist',\n",
       "    'uri': 'spotify:playlist:37i9dQZF1DX0BcQWzuB7ZO'},\n",
       "   {'collaborative': False,\n",
       "    'description': 'Gentle Ambient piano to help you fall asleep. ',\n",
       "    'external_urls': {'spotify': 'https://open.spotify.com/playlist/37i9dQZF1DWZd79rJ6a7lp'},\n",
       "    'href': 'https://api.spotify.com/v1/playlists/37i9dQZF1DWZd79rJ6a7lp',\n",
       "    'id': '37i9dQZF1DWZd79rJ6a7lp',\n",
       "    'images': [{'height': None,\n",
       "      'url': 'https://i.scdn.co/image/ab67706f00000002cd17d41419faa97069e06c16',\n",
       "      'width': None}],\n",
       "    'name': 'Sleep',\n",
       "    'owner': {'display_name': 'Spotify',\n",
       "     'external_urls': {'spotify': 'https://open.spotify.com/user/spotify'},\n",
       "     'href': 'https://api.spotify.com/v1/users/spotify',\n",
       "     'id': 'spotify',\n",
       "     'type': 'user',\n",
       "     'uri': 'spotify:user:spotify'},\n",
       "    'primary_color': '#ffffff',\n",
       "    'public': True,\n",
       "    'snapshot_id': 'ZnH9xgAAAAB0G1mfBwjfvkDDjC7fzN11',\n",
       "    'tracks': {'href': 'https://api.spotify.com/v1/playlists/37i9dQZF1DWZd79rJ6a7lp/tracks',\n",
       "     'total': 189},\n",
       "    'type': 'playlist',\n",
       "    'uri': 'spotify:playlist:37i9dQZF1DWZd79rJ6a7lp'},\n",
       "   {'collaborative': False,\n",
       "    'description': 'The biggest songs of the 2000s. Cover: The Killers',\n",
       "    'external_urls': {'spotify': 'https://open.spotify.com/playlist/37i9dQZF1DX4o1oenSJRJd'},\n",
       "    'href': 'https://api.spotify.com/v1/playlists/37i9dQZF1DX4o1oenSJRJd',\n",
       "    'id': '37i9dQZF1DX4o1oenSJRJd',\n",
       "    'images': [{'height': None,\n",
       "      'url': 'https://i.scdn.co/image/ab67706f00000002c900fae23e2a3cf42b0e1556',\n",
       "      'width': None}],\n",
       "    'name': 'All Out 2000s',\n",
       "    'owner': {'display_name': 'Spotify',\n",
       "     'external_urls': {'spotify': 'https://open.spotify.com/user/spotify'},\n",
       "     'href': 'https://api.spotify.com/v1/users/spotify',\n",
       "     'id': 'spotify',\n",
       "     'type': 'user',\n",
       "     'uri': 'spotify:user:spotify'},\n",
       "    'primary_color': '#ffffff',\n",
       "    'public': True,\n",
       "    'snapshot_id': 'ZoR4uQAAAACcY/AdKoYP1e64YOy2kSij',\n",
       "    'tracks': {'href': 'https://api.spotify.com/v1/playlists/37i9dQZF1DX4o1oenSJRJd/tracks',\n",
       "     'total': 150},\n",
       "    'type': 'playlist',\n",
       "    'uri': 'spotify:playlist:37i9dQZF1DX4o1oenSJRJd'},\n",
       "   {'collaborative': False,\n",
       "    'description': 'The ocean, the sun, your friends, the music.',\n",
       "    'external_urls': {'spotify': 'https://open.spotify.com/playlist/37i9dQZF1DX4Y4RhrZqHhr'},\n",
       "    'href': 'https://api.spotify.com/v1/playlists/37i9dQZF1DX4Y4RhrZqHhr',\n",
       "    'id': '37i9dQZF1DX4Y4RhrZqHhr',\n",
       "    'images': [{'height': None,\n",
       "      'url': 'https://i.scdn.co/image/ab67706f000000023f2429537dcbe10282011246',\n",
       "      'width': None}],\n",
       "    'name': 'Beach Party',\n",
       "    'owner': {'display_name': 'Spotify',\n",
       "     'external_urls': {'spotify': 'https://open.spotify.com/user/spotify'},\n",
       "     'href': 'https://api.spotify.com/v1/users/spotify',\n",
       "     'id': 'spotify',\n",
       "     'type': 'user',\n",
       "     'uri': 'spotify:user:spotify'},\n",
       "    'primary_color': '#ffffff',\n",
       "    'public': True,\n",
       "    'snapshot_id': 'ZmQAVAAAAAD4yBT4ycxaTVA0dU+k1Hc2',\n",
       "    'tracks': {'href': 'https://api.spotify.com/v1/playlists/37i9dQZF1DX4Y4RhrZqHhr/tracks',\n",
       "     'total': 139},\n",
       "    'type': 'playlist',\n",
       "    'uri': 'spotify:playlist:37i9dQZF1DX4Y4RhrZqHhr'},\n",
       "   {'collaborative': False,\n",
       "    'description': 'The biggest songs of the 1980s. Cover: Bruce Springsteen',\n",
       "    'external_urls': {'spotify': 'https://open.spotify.com/playlist/37i9dQZF1DX4UtSsGT1Sbe'},\n",
       "    'href': 'https://api.spotify.com/v1/playlists/37i9dQZF1DX4UtSsGT1Sbe',\n",
       "    'id': '37i9dQZF1DX4UtSsGT1Sbe',\n",
       "    'images': [{'height': None,\n",
       "      'url': 'https://i.scdn.co/image/ab67706f00000002d6710ea346fec48e89d77dba',\n",
       "      'width': None}],\n",
       "    'name': 'All Out 80s',\n",
       "    'owner': {'display_name': 'Spotify',\n",
       "     'external_urls': {'spotify': 'https://open.spotify.com/user/spotify'},\n",
       "     'href': 'https://api.spotify.com/v1/users/spotify',\n",
       "     'id': 'spotify',\n",
       "     'type': 'user',\n",
       "     'uri': 'spotify:user:spotify'},\n",
       "    'primary_color': '#ffffff',\n",
       "    'public': True,\n",
       "    'snapshot_id': 'Zmmj0gAAAABPhrqPXE9ppSttJnPZgqq3',\n",
       "    'tracks': {'href': 'https://api.spotify.com/v1/playlists/37i9dQZF1DX4UtSsGT1Sbe/tracks',\n",
       "     'total': 150},\n",
       "    'type': 'playlist',\n",
       "    'uri': 'spotify:playlist:37i9dQZF1DX4UtSsGT1Sbe'},\n",
       "   {'collaborative': False,\n",
       "    'description': 'Ten hours long continuous white noise to help you relax and let go. ',\n",
       "    'external_urls': {'spotify': 'https://open.spotify.com/playlist/37i9dQZF1DWUZ5bk6qqDSy'},\n",
       "    'href': 'https://api.spotify.com/v1/playlists/37i9dQZF1DWUZ5bk6qqDSy',\n",
       "    'id': '37i9dQZF1DWUZ5bk6qqDSy',\n",
       "    'images': [{'height': None,\n",
       "      'url': 'https://i.scdn.co/image/ab67706f00000002e3c324443862abeb46220f00',\n",
       "      'width': None}],\n",
       "    'name': 'White Noise 10 Hours',\n",
       "    'owner': {'display_name': 'Spotify',\n",
       "     'external_urls': {'spotify': 'https://open.spotify.com/user/spotify'},\n",
       "     'href': 'https://api.spotify.com/v1/users/spotify',\n",
       "     'id': 'spotify',\n",
       "     'type': 'user',\n",
       "     'uri': 'spotify:user:spotify'},\n",
       "    'primary_color': '#ffffff',\n",
       "    'public': True,\n",
       "    'snapshot_id': 'ZofHNAAAAAAE2Yw2dwetS+2rLDQHF4Vb',\n",
       "    'tracks': {'href': 'https://api.spotify.com/v1/playlists/37i9dQZF1DWUZ5bk6qqDSy/tracks',\n",
       "     'total': 214},\n",
       "    'type': 'playlist',\n",
       "    'uri': 'spotify:playlist:37i9dQZF1DWUZ5bk6qqDSy'},\n",
       "   {'collaborative': False,\n",
       "    'description': 'Soft instrumental Jazz for all your activities.',\n",
       "    'external_urls': {'spotify': 'https://open.spotify.com/playlist/37i9dQZF1DWV7EzJMK2FUI'},\n",
       "    'href': 'https://api.spotify.com/v1/playlists/37i9dQZF1DWV7EzJMK2FUI',\n",
       "    'id': '37i9dQZF1DWV7EzJMK2FUI',\n",
       "    'images': [{'height': None,\n",
       "      'url': 'https://i.scdn.co/image/ab67706f00000002472120b92edea982b5feb264',\n",
       "      'width': None}],\n",
       "    'name': 'Jazz in the Background',\n",
       "    'owner': {'display_name': 'Spotify',\n",
       "     'external_urls': {'spotify': 'https://open.spotify.com/user/spotify'},\n",
       "     'href': 'https://api.spotify.com/v1/users/spotify',\n",
       "     'id': 'spotify',\n",
       "     'type': 'user',\n",
       "     'uri': 'spotify:user:spotify'},\n",
       "    'primary_color': '#ffffff',\n",
       "    'public': True,\n",
       "    'snapshot_id': 'ZoJrewAAAACdnwHv6Cmon9DVt4lnFHbM',\n",
       "    'tracks': {'href': 'https://api.spotify.com/v1/playlists/37i9dQZF1DWV7EzJMK2FUI/tracks',\n",
       "     'total': 882},\n",
       "    'type': 'playlist',\n",
       "    'uri': 'spotify:playlist:37i9dQZF1DWV7EzJMK2FUI'},\n",
       "   {'collaborative': False,\n",
       "    'description': 'Sing along and enjoy the drive',\n",
       "    'external_urls': {'spotify': 'https://open.spotify.com/playlist/37i9dQZF1DWWMOmoXKqHTD'},\n",
       "    'href': 'https://api.spotify.com/v1/playlists/37i9dQZF1DWWMOmoXKqHTD',\n",
       "    'id': '37i9dQZF1DWWMOmoXKqHTD',\n",
       "    'images': [{'height': None,\n",
       "      'url': 'https://i.scdn.co/image/ab67706f00000002e7a67be84848d33ee020b0c9',\n",
       "      'width': None}],\n",
       "    'name': 'Songs to Sing in the Car',\n",
       "    'owner': {'display_name': 'Spotify',\n",
       "     'external_urls': {'spotify': 'https://open.spotify.com/user/spotify'},\n",
       "     'href': 'https://api.spotify.com/v1/users/spotify',\n",
       "     'id': 'spotify',\n",
       "     'type': 'user',\n",
       "     'uri': 'spotify:user:spotify'},\n",
       "    'primary_color': '#ffffff',\n",
       "    'public': True,\n",
       "    'snapshot_id': 'ZmN12AAAAAAdq4LhmfxIZBN0k02AwG2D',\n",
       "    'tracks': {'href': 'https://api.spotify.com/v1/playlists/37i9dQZF1DWWMOmoXKqHTD/tracks',\n",
       "     'total': 100},\n",
       "    'type': 'playlist',\n",
       "    'uri': 'spotify:playlist:37i9dQZF1DWWMOmoXKqHTD'},\n",
       "   {'collaborative': False,\n",
       "    'description': 'Get your beast mode on!',\n",
       "    'external_urls': {'spotify': 'https://open.spotify.com/playlist/37i9dQZF1DX76Wlfdnj7AP'},\n",
       "    'href': 'https://api.spotify.com/v1/playlists/37i9dQZF1DX76Wlfdnj7AP',\n",
       "    'id': '37i9dQZF1DX76Wlfdnj7AP',\n",
       "    'images': [{'height': None,\n",
       "      'url': 'https://i.scdn.co/image/ab67706f0000000293700a9803d4f9909389e829',\n",
       "      'width': None}],\n",
       "    'name': 'Beast Mode',\n",
       "    'owner': {'display_name': 'Spotify',\n",
       "     'external_urls': {'spotify': 'https://open.spotify.com/user/spotify'},\n",
       "     'href': 'https://api.spotify.com/v1/users/spotify',\n",
       "     'id': 'spotify',\n",
       "     'type': 'user',\n",
       "     'uri': 'spotify:user:spotify'},\n",
       "    'primary_color': '#FFFFFF',\n",
       "    'public': True,\n",
       "    'snapshot_id': 'ZnT6wAAAAAD+GB80WvA4Kgb8vXfKuEC8',\n",
       "    'tracks': {'href': 'https://api.spotify.com/v1/playlists/37i9dQZF1DX76Wlfdnj7AP/tracks',\n",
       "     'total': 150},\n",
       "    'type': 'playlist',\n",
       "    'uri': 'spotify:playlist:37i9dQZF1DX76Wlfdnj7AP'}],\n",
       "  'limit': 20,\n",
       "  'next': 'https://api.spotify.com/v1/browse/featured-playlists?offset=20&limit=20',\n",
       "  'offset': 0,\n",
       "  'previous': None,\n",
       "  'total': 100}}"
      ]
     },
     "execution_count": 115,
     "metadata": {},
     "output_type": "execute_result"
    }
   ],
   "source": [
    "sp.featured_playlists() # We get a playlist id of a playlist we like"
   ]
  },
  {
   "cell_type": "markdown",
   "id": "90f558f3-c638-4df4-b5a4-e24f7847d52a",
   "metadata": {},
   "source": [
    "### Getting a Playlist's Details\n",
    "To fetch details about a specific playlist, you can use the playlist method. You'll need the playlist's Spotify ID."
   ]
  },
  {
   "cell_type": "markdown",
   "id": "0eef529f-617f-4ea3-8156-07472ac8e6d5",
   "metadata": {},
   "source": [
    "In this example, we will use the following playlist id: *37i9dQZF1DXd9zR7tdziuQ*"
   ]
  },
  {
   "cell_type": "code",
   "execution_count": 116,
   "id": "46d35121-9256-4cf4-81f5-118b87f7af32",
   "metadata": {},
   "outputs": [],
   "source": [
    "playlist_id = \"37i9dQZF1DXd9zR7tdziuQ\"\n",
    "playlist = sp.playlist(playlist_id)"
   ]
  },
  {
   "cell_type": "code",
   "execution_count": 117,
   "id": "5260f67f-6024-4fee-8449-30904f03bf76",
   "metadata": {},
   "outputs": [
    {
     "name": "stdout",
     "output_type": "stream",
     "text": [
      "Hits acústicos\n",
      "Relájate con tus canciones favoritas en versión acústica / Descontrai com versões acústicas das tuas músicas preferidas.\n"
     ]
    }
   ],
   "source": [
    "print(playlist['name'])  # Print the playlist's name\n",
    "print(playlist['description'])  # Print the playlist's description"
   ]
  },
  {
   "cell_type": "markdown",
   "id": "13bc8631-69f0-4b98-9cc9-5baecbaea9ba",
   "metadata": {},
   "source": [
    "### Getting Tracks from a Playlist\n",
    "If you want to get the tracks from a specific playlist, you can use the playlist_tracks method."
   ]
  },
  {
   "cell_type": "code",
   "execution_count": 118,
   "id": "69c78f8d-7e6a-4d15-bcbb-fc93edb82433",
   "metadata": {},
   "outputs": [
    {
     "name": "stdout",
     "output_type": "stream",
     "text": [
      "Take Me Home, Country Roads\n",
      "La Vie En Rose\n",
      "You Are My Sunshine\n",
      "Sunday Morning - Acoustic\n",
      "Too Good At Goodbyes - Acoustic\n",
      "True Colours\n",
      "I'm Not the Only One - Live from Spotify, London\n",
      "Cold Heart - Acoustic\n",
      "September Song - Guitar Acoustic\n",
      "Collide - Acoustic Version\n",
      "Baby One More Time - Recorded at Spotify Studios New York City\n",
      "If You Ever Wanna Be In Love - James Bay Spotify Session 2015\n",
      "When You Love Someone - Acoustic\n",
      "Rockabye - Acoustic Version\n",
      "Blinding Lights\n",
      "Ain't Nobody (Loves Me Better) - Acoustic\n",
      "Shape of You - Acoustic\n",
      "Little Talks\n",
      "Something Just Like This - Acoustic\n",
      "Linger\n",
      "Let It Go - James Bay Spotify Session 2015\n",
      "What About Us - Acoustic\n",
      "1973 - Acoustic\n",
      "Heaven Is a Place on Earth\n",
      "Billie Jean\n",
      "Crazy in Love\n",
      "Perfect - Acoustic\n",
      "Wild Love - Acoustic\n",
      "Naked - Acoustic Version\n",
      "Firestone - Live Acoustic Version\n",
      "Can't Help Falling in Love\n",
      "Price Tag - Acoustic Version\n",
      "Fix You - Live\n",
      "Slow Dancing in a Burning Room - Acoustic\n",
      "Chasing Cars\n",
      "Summertime Sadness (Acoustic Cover) feat. Keelan Donovan\n",
      "We Can't Stop - Acoustic\n",
      "Dancing On My Own - Acoustic\n",
      "Halo\n",
      "Another Love - Live from Spotify (SXSW)\n",
      "Ordinary World\n",
      "All of Me - Live from Spotify Milan\n",
      "Kiss Me - AOL Sessions Acoustic Version\n",
      "Girls Just Wanna Have Fun - Acoustic\n",
      "Have You Ever Seen The Rain - Recorded at Electric Lady Studios NYC\n",
      "Hey Ya - solo version\n",
      "Bizarre Love Triangle - 2014 Remaster\n",
      "New Rules - Acoustic\n",
      "Landslide\n",
      "Mad World - Recorded at Metropolis Studios, London\n",
      "City of Stars\n",
      "It Aint me - Acoustic\n",
      "Bad Day - Acoustic\n",
      "Wild World - Acoustic Version\n",
      "IDGAF - Acoustic\n",
      "Don't Wanna Know - Acoustic Version\n",
      "Chandelier - Live from The Village\n",
      "Too Much To Ask - Acoustic\n",
      "I Kissed a Girl\n",
      "Pretty Girl - Acoustic Version\n",
      "Rhythm Inside - Acoustic\n",
      "Unchained Melody\n",
      "Sex On Fire\n",
      "When Doves Cry - Recorded At Spotify Studios NYC\n",
      "I Wanna Dance with Somebody\n",
      "U Remind Me - Recorded at Spotify Studios NYC\n",
      "Cold Water\n",
      "2U - Acoustic Version\n",
      "Creep\n",
      "Over the Rainbow\n",
      "Umbrella - Acoustic Version\n",
      "Your Song - Acoustic\n",
      "I'm the One - Acoustic\n",
      "Stitches\n",
      "Sugar - Acoustic\n",
      "Brandy (You're a Fine Girl)\n",
      "Shallow\n",
      "Silence\n",
      "She's On My Mind - Guitar Acoustic\n",
      "Crazy - Live Sessions\n",
      "Please Keep Loving Me - Acoustic\n",
      "Stay\n",
      "How to Save a Life - Live in Nashville, TN - December 2006\n",
      "Starboy - Acoustic\n",
      "Dancing in the Moonlight - Acoustic Version\n",
      "Closer\n",
      "Nervous - Acoustic\n",
      "Scars To Your Beautiful\n",
      "Shut up and Dance\n",
      "Send My Love (To Your New Lover) - Live\n",
      "Once In a While - Acoustic\n",
      "Maps\n",
      "Lot To Learn\n",
      "XO\n",
      "Perfect Strangers - Acoustic\n",
      "New Rules\n",
      "There's Nothing Holdin Me Back\n",
      "Thunder\n",
      "Hello\n",
      "High and Dry\n"
     ]
    }
   ],
   "source": [
    "tracks = sp.playlist_tracks(playlist_id)\n",
    "for track in tracks['items']:\n",
    "    print(track['track']['name'])  # Print each track's name"
   ]
  },
  {
   "cell_type": "markdown",
   "id": "2775714d-acc7-4555-96bd-2c541ab0855e",
   "metadata": {},
   "source": [
    "### Getting Artists from a Playlist\n",
    "\n",
    "To extract all the artists from the tracks in a playlist, you'd typically follow these steps:\n",
    "\n",
    "1. Fetch the playlist's tracks.\n",
    "2. Iterate through each track.\n",
    "3. For each track, extract the associated artists."
   ]
  },
  {
   "cell_type": "code",
   "execution_count": null,
   "id": "65c5e5c4-f186-42c6-b136-4ef02b0b01ff",
   "metadata": {},
   "outputs": [],
   "source": [
    "# List to store unique artist names\n",
    "artists_list = []\n",
    "\n",
    "for track_item in tracks['items']:\n",
    "    track = track_item['track']\n",
    "    for artist in track['artists']:\n",
    "        artist_name = artist['name']\n",
    "        if artist_name not in artists_list:  # This ensures each artist is added only once\n",
    "            artists_list.append(artist_name)\n",
    "\n",
    "print(artists_list)"
   ]
  },
  {
   "cell_type": "markdown",
   "id": "7b52207e-a4f0-4f90-9f4e-3170d7f0f3fe",
   "metadata": {},
   "source": [
    "## Exercise 2: Unraveling the World of Playlists\n",
    "\n",
    "\n",
    "1. **Featured Exploration**: \n",
    "   - Fetch the list of Spotify's current featured playlists. \n",
    "   - Extract and display the names and IDs of the top 5 featured playlists.\n",
    "   \n",
    "2. **Deep Dive**:\n",
    "   - Choose any one of the top 5 featured playlists (you can choose the one you personally find most interesting or simply pick one randomly).\n",
    "   - Fetch and display its name, description, and total track count.\n",
    "\n",
    "3. **Track-tastic**:\n",
    "   - Extract and display the names of the first 10 tracks in the chosen playlist.\n",
    "\n",
    "4. **Artistic Flair**:\n",
    "   - Create a dictionary where the keys are the names of the first 10 tracks, and the values are lists containing the names of the artists associated with each track.\n",
    "   - For example: `{\"TrackName1\": [\"Artist1\", \"Artist2\"], \"TrackName2\": [\"Artist3\"]}`\n",
    "   "
   ]
  },
  {
   "cell_type": "code",
   "execution_count": null,
   "id": "6592bf83",
   "metadata": {},
   "outputs": [],
   "source": [
    "sp.featured_playlists()"
   ]
  },
  {
   "cell_type": "code",
   "execution_count": 158,
   "id": "1dcdddf8",
   "metadata": {},
   "outputs": [],
   "source": [
    "def find_top_playlists():\n",
    "    featured_playlists = sp.featured_playlists(limit=5)[\"playlists\"][\"items\"]\n",
    "    top_featured_playlists = [(playlist[\"name\"], playlist[\"id\"]) for playlist in featured_playlists]\n",
    "    return top_featured_playlists"
   ]
  },
  {
   "cell_type": "code",
   "execution_count": 159,
   "id": "b2a06311",
   "metadata": {},
   "outputs": [
    {
     "data": {
      "text/plain": [
       "[('Today’s Top Hits', '37i9dQZF1DXcBWIGoYBM5M'),\n",
       " ('Summer Dance Hits 2024', '37i9dQZF1DWZ7eJRBxKzdO'),\n",
       " ('Eurovision 2024', '37i9dQZF1DWVCKO3xAlT1Q'),\n",
       " ('phonk', '37i9dQZF1DWWY64wDtewQt'),\n",
       " ('Summer House 2024', '37i9dQZF1DX05r4Oy3Ln97')]"
      ]
     },
     "execution_count": 159,
     "metadata": {},
     "output_type": "execute_result"
    }
   ],
   "source": [
    "find_top_playlists()"
   ]
  },
  {
   "cell_type": "code",
   "execution_count": 163,
   "id": "8986b263",
   "metadata": {},
   "outputs": [
    {
     "data": {
      "text/plain": [
       "'Summer House 2024'"
      ]
     },
     "execution_count": 163,
     "metadata": {},
     "output_type": "execute_result"
    }
   ],
   "source": [
    "playlist_id = \"37i9dQZF1DX05r4Oy3Ln97\"\n",
    "playlist = sp.playlist(playlist_id)\n",
    "playlist[\"name\"]"
   ]
  },
  {
   "cell_type": "code",
   "execution_count": 164,
   "id": "bcfd95c2",
   "metadata": {},
   "outputs": [
    {
     "data": {
      "text/plain": [
       "'Dip your feet in the pool and enjoy this perfect summer house mix ☀️\\u200a'"
      ]
     },
     "execution_count": 164,
     "metadata": {},
     "output_type": "execute_result"
    }
   ],
   "source": [
    "playlist[\"description\"]"
   ]
  },
  {
   "cell_type": "code",
   "execution_count": 166,
   "id": "14f6cc68",
   "metadata": {},
   "outputs": [
    {
     "data": {
      "text/plain": [
       "100"
      ]
     },
     "execution_count": 166,
     "metadata": {},
     "output_type": "execute_result"
    }
   ],
   "source": [
    "playlist['tracks']['total']"
   ]
  },
  {
   "cell_type": "code",
   "execution_count": 190,
   "id": "4c735f3d",
   "metadata": {},
   "outputs": [
    {
     "name": "stdout",
     "output_type": "stream",
     "text": [
      "Stumblin' In\n",
      "Move\n",
      "You & Me - Rivo Remix\n",
      "(It Goes Like) Nanana - Edit\n",
      "Afraid To Feel\n",
      "Mwaki\n",
      "Somebody (2024)\n",
      "Baianá\n",
      "Relax My Eyes\n",
      "She’s Gone, Dance On\n"
     ]
    }
   ],
   "source": [
    "tracks = sp.playlist_tracks(playlist_id, limit=10)\n",
    "for track in tracks['items']:\n",
    "    print(track['track']['name'])"
   ]
  },
  {
   "cell_type": "markdown",
   "id": "4dbbc830",
   "metadata": {},
   "source": [
    " - Create a dictionary where the keys are the names of the first 10 tracks, and the values are lists containing the names of the artists associated with each track.\n",
    "   - For example: `{\"TrackName1\": [\"Artist1\", \"Artist2\"], \"TrackName2\": [\"Artist3\"]}`\n",
    "   "
   ]
  },
  {
   "cell_type": "code",
   "execution_count": 191,
   "id": "a37946c6",
   "metadata": {},
   "outputs": [
    {
     "name": "stdout",
     "output_type": "stream",
     "text": [
      "['CYRIL', 'Adam Port', 'Stryv', 'Keinemusik', 'Orso', 'Malachiii', 'Disclosure', 'Eliza Doolittle', 'Rivo', 'Peggy Gou', 'LF SYSTEM', 'Zerb', 'Sofiya Nzau', 'Gotye', 'FISHER', 'Chris Lake', 'Kimbra', 'Sante Sansone', 'Bakermat', 'ANOTR', 'Abel Balder']\n"
     ]
    }
   ],
   "source": [
    "# List to store unique artist names\n",
    "artists_list = []\n",
    "\n",
    "for track_item in tracks['items']:\n",
    "    track = track_item['track']\n",
    "    for artist in track['artists']:\n",
    "        artist_name = artist['name']\n",
    "        if artist_name not in artists_list:  # This ensures each artist is added only once\n",
    "            artists_list.append(artist_name)\n",
    "\n",
    "print(artists_list)"
   ]
  },
  {
   "cell_type": "code",
   "execution_count": 194,
   "id": "05f75d54",
   "metadata": {},
   "outputs": [],
   "source": [
    "#Create a dictionary where the keys are the names of the first 10 tracks, and the values are lists containing the names of the artists associated with each track.\n",
    "dict_tracks = {} # Initialize an empty dictionary\n",
    "for track_item in tracks['items']: # Iterate over the tracks\n",
    "    track = track_item['track'] # Get the track object\n",
    "    track_name = track['name'] # Get the track name\n",
    "    artist_list = [] # Initialize an empty list to store the artists\n",
    "    for artist in track['artists']: # Iterate over the artists\n",
    "        artist_list.append(artist['name']) # Append the artist name to the list\n",
    "    dict_tracks[track_name] = artist_list # Assign the list of artists to the track name key"
   ]
  },
  {
   "cell_type": "code",
   "execution_count": 193,
   "id": "e6b4cd21",
   "metadata": {},
   "outputs": [
    {
     "data": {
      "text/plain": [
       "{\"Stumblin' In\": ['CYRIL'],\n",
       " 'Move': ['Adam Port', 'Stryv', 'Keinemusik', 'Orso', 'Malachiii'],\n",
       " 'You & Me - Rivo Remix': ['Disclosure', 'Eliza Doolittle', 'Rivo'],\n",
       " '(It Goes Like) Nanana - Edit': ['Peggy Gou'],\n",
       " 'Afraid To Feel': ['LF SYSTEM'],\n",
       " 'Mwaki': ['Zerb', 'Sofiya Nzau'],\n",
       " 'Somebody (2024)': ['Gotye',\n",
       "  'FISHER',\n",
       "  'Chris Lake',\n",
       "  'Kimbra',\n",
       "  'Sante Sansone'],\n",
       " 'Baianá': ['Bakermat'],\n",
       " 'Relax My Eyes': ['ANOTR', 'Abel Balder'],\n",
       " 'She’s Gone, Dance On': ['Disclosure']}"
      ]
     },
     "execution_count": 193,
     "metadata": {},
     "output_type": "execute_result"
    }
   ],
   "source": [
    "dict_tracks"
   ]
  }
 ],
 "metadata": {
  "kernelspec": {
   "display_name": "Python 3 (ipykernel)",
   "language": "python",
   "name": "python3"
  },
  "language_info": {
   "codemirror_mode": {
    "name": "ipython",
    "version": 3
   },
   "file_extension": ".py",
   "mimetype": "text/x-python",
   "name": "python",
   "nbconvert_exporter": "python",
   "pygments_lexer": "ipython3",
   "version": "3.11.7"
  }
 },
 "nbformat": 4,
 "nbformat_minor": 5
}
